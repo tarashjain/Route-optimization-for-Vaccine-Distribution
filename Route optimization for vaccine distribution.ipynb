{
 "cells": [
  {
   "cell_type": "markdown",
   "metadata": {},
   "source": [
    "# Importing Libraries"
   ]
  },
  {
   "cell_type": "code",
   "execution_count": 2,
   "metadata": {},
   "outputs": [],
   "source": [
    "import numpy as np\n",
    "import pandas as pd\n",
    "import gurobipy as gp\n",
    "from gurobipy import *"
   ]
  },
  {
   "cell_type": "markdown",
   "metadata": {},
   "source": [
    "# Importing Data"
   ]
  },
  {
   "cell_type": "code",
   "execution_count": 55,
   "metadata": {},
   "outputs": [],
   "source": [
    "df = pd.read_excel(\"Data.xlsx\")"
   ]
  },
  {
   "cell_type": "code",
   "execution_count": 4,
   "metadata": {},
   "outputs": [
    {
     "data": {
      "text/html": [
       "<div>\n",
       "<style scoped>\n",
       "    .dataframe tbody tr th:only-of-type {\n",
       "        vertical-align: middle;\n",
       "    }\n",
       "\n",
       "    .dataframe tbody tr th {\n",
       "        vertical-align: top;\n",
       "    }\n",
       "\n",
       "    .dataframe thead th {\n",
       "        text-align: right;\n",
       "    }\n",
       "</style>\n",
       "<table border=\"1\" class=\"dataframe\">\n",
       "  <thead>\n",
       "    <tr style=\"text-align: right;\">\n",
       "      <th></th>\n",
       "      <th>City</th>\n",
       "      <th>Hospital Names</th>\n",
       "      <th>Population</th>\n",
       "      <th>Area (km2)</th>\n",
       "      <th>Population Density</th>\n",
       "    </tr>\n",
       "  </thead>\n",
       "  <tbody>\n",
       "    <tr>\n",
       "      <th>0</th>\n",
       "      <td>Montreal [QC 3]</td>\n",
       "      <td>Montréal General Hospital</td>\n",
       "      <td>1704694</td>\n",
       "      <td>365.65</td>\n",
       "      <td>4662.1</td>\n",
       "    </tr>\n",
       "    <tr>\n",
       "      <th>1</th>\n",
       "      <td>Quebec [QC 4]</td>\n",
       "      <td>Hôtel-Dieu de Québec</td>\n",
       "      <td>531902</td>\n",
       "      <td>453.38</td>\n",
       "      <td>1173.2</td>\n",
       "    </tr>\n",
       "    <tr>\n",
       "      <th>2</th>\n",
       "      <td>Laval</td>\n",
       "      <td>City of Health Hospital</td>\n",
       "      <td>422993</td>\n",
       "      <td>247.23</td>\n",
       "      <td>1710.9</td>\n",
       "    </tr>\n",
       "    <tr>\n",
       "      <th>3</th>\n",
       "      <td>Gatineau</td>\n",
       "      <td>Hôpital de Gatineau</td>\n",
       "      <td>276245</td>\n",
       "      <td>342.80</td>\n",
       "      <td>805.8</td>\n",
       "    </tr>\n",
       "    <tr>\n",
       "      <th>4</th>\n",
       "      <td>Longueuil</td>\n",
       "      <td>Hôpital Pierre Boucher</td>\n",
       "      <td>239700</td>\n",
       "      <td>115.75</td>\n",
       "      <td>2070.9</td>\n",
       "    </tr>\n",
       "    <tr>\n",
       "      <th>5</th>\n",
       "      <td>Sherbrooke</td>\n",
       "      <td>Hotel-Dieu De Sherbrooke</td>\n",
       "      <td>161323</td>\n",
       "      <td>353.76</td>\n",
       "      <td>456.0</td>\n",
       "    </tr>\n",
       "    <tr>\n",
       "      <th>6</th>\n",
       "      <td>Saguenay</td>\n",
       "      <td>Hôpital De Chicoutimi</td>\n",
       "      <td>145949</td>\n",
       "      <td>1128.56</td>\n",
       "      <td>129.3</td>\n",
       "    </tr>\n",
       "    <tr>\n",
       "      <th>7</th>\n",
       "      <td>Levi's</td>\n",
       "      <td>Hotel Dieu Hospital of Lévis</td>\n",
       "      <td>143414</td>\n",
       "      <td>449.05</td>\n",
       "      <td>319.4</td>\n",
       "    </tr>\n",
       "    <tr>\n",
       "      <th>8</th>\n",
       "      <td>Three Rivers</td>\n",
       "      <td>Centre Cloutier-du Rivage</td>\n",
       "      <td>134413</td>\n",
       "      <td>289.32</td>\n",
       "      <td>464.6</td>\n",
       "    </tr>\n",
       "    <tr>\n",
       "      <th>9</th>\n",
       "      <td>Terrebonne</td>\n",
       "      <td>Pierre-Le Gardeur Hospital</td>\n",
       "      <td>111575</td>\n",
       "      <td>154.12</td>\n",
       "      <td>723.9</td>\n",
       "    </tr>\n",
       "    <tr>\n",
       "      <th>10</th>\n",
       "      <td>Saint-Jean-sur-Richelieu</td>\n",
       "      <td>Hôpital du Haut-Richelieu</td>\n",
       "      <td>95114</td>\n",
       "      <td>226.63</td>\n",
       "      <td>419.7</td>\n",
       "    </tr>\n",
       "  </tbody>\n",
       "</table>\n",
       "</div>"
      ],
      "text/plain": [
       "                        City                Hospital Names  Population  \\\n",
       "0            Montreal [QC 3]     Montréal General Hospital     1704694   \n",
       "1              Quebec [QC 4]          Hôtel-Dieu de Québec      531902   \n",
       "2                      Laval       City of Health Hospital      422993   \n",
       "3                   Gatineau           Hôpital de Gatineau      276245   \n",
       "4                  Longueuil        Hôpital Pierre Boucher      239700   \n",
       "5                 Sherbrooke      Hotel-Dieu De Sherbrooke      161323   \n",
       "6                   Saguenay         Hôpital De Chicoutimi      145949   \n",
       "7                     Levi's  Hotel Dieu Hospital of Lévis      143414   \n",
       "8               Three Rivers     Centre Cloutier-du Rivage      134413   \n",
       "9                 Terrebonne    Pierre-Le Gardeur Hospital      111575   \n",
       "10  Saint-Jean-sur-Richelieu     Hôpital du Haut-Richelieu       95114   \n",
       "\n",
       "    Area (km2)  Population Density  \n",
       "0       365.65              4662.1  \n",
       "1       453.38              1173.2  \n",
       "2       247.23              1710.9  \n",
       "3       342.80               805.8  \n",
       "4       115.75              2070.9  \n",
       "5       353.76               456.0  \n",
       "6      1128.56               129.3  \n",
       "7       449.05               319.4  \n",
       "8       289.32               464.6  \n",
       "9       154.12               723.9  \n",
       "10      226.63               419.7  "
      ]
     },
     "execution_count": 4,
     "metadata": {},
     "output_type": "execute_result"
    }
   ],
   "source": [
    "df"
   ]
  },
  {
   "cell_type": "code",
   "execution_count": 5,
   "metadata": {},
   "outputs": [],
   "source": [
    "hospitals = ['Montréal General Hospital', 'Hôtel-Dieu de Québec', 'City of Health Hospital', 'Hôpital de Gatineau', 'Hôpital Pierre Boucher', 'Hotel-Dieu De Sherbrooke', 'Hôpital De Chicoutimi', 'Hotel Dieu Hospital of Lévis', 'Centre Cloutier-du Rivage', 'Pierre-Le Gardeur Hospital', 'Hôpital du Haut-Richelieu']"
   ]
  },
  {
   "cell_type": "code",
   "execution_count": 6,
   "metadata": {},
   "outputs": [],
   "source": [
    "lat = [45.4968719482421,46.8155652,45.56995,45.4932495,45.5382423400878,45.40008,48.4267813,46.80326,46.3646876,45.7188859,45.3324485]\n",
    "long = [-73.58885,-71.210425,-73.692,-75.6909986,-73.45860290527344,-71.89908,-71.0482783,-71.17793,-72.5051676,-73.5172688,-73.270938]"
   ]
  },
  {
   "cell_type": "code",
   "execution_count": 7,
   "metadata": {},
   "outputs": [
    {
     "data": {
      "text/plain": [
       "<matplotlib.collections.PathCollection at 0x1bbb79097c8>"
      ]
     },
     "execution_count": 7,
     "metadata": {},
     "output_type": "execute_result"
    },
    {
     "data": {
      "image/png": "[encoded data removed]",
      "text/plain": [
       "<Figure size 432x288 with 1 Axes>"
      ]
     },
     "metadata": {
      "needs_background": "light"
     },
     "output_type": "display_data"
    }
   ],
   "source": [
    "import matplotlib.pyplot as plt\n",
    "plt.plot(lat[0], long[0], c='r', marker='s')\n",
    "plt.scatter(lat[1:], long[1:], c='b', marker = 'x')"
   ]
  },
  {
   "cell_type": "code",
   "execution_count": 8,
   "metadata": {},
   "outputs": [],
   "source": [
    "population = df['Population'][:11]"
   ]
  },
  {
   "cell_type": "markdown",
   "metadata": {},
   "source": [
    "# Parameters"
   ]
  },
  {
   "cell_type": "code",
   "execution_count": 9,
   "metadata": {},
   "outputs": [],
   "source": [
    "n=10\n",
    "N = [i for i in range(1, n+1)]\n",
    "V = [0] + N\n",
    "A = [(i, j) for i in V for j in V if i != j]\n",
    "dist = {(i, j):np.hypot(lat[i]-lat[j], long[i]-long[j])*100 for i,j in A}\n",
    "capacity = 80000\n",
    "q = population[1:]*0.1\n"
   ]
  },
  {
   "cell_type": "markdown",
   "metadata": {},
   "source": [
    "# Problem Model "
   ]
  },
  {
   "cell_type": "code",
   "execution_count": 10,
   "metadata": {},
   "outputs": [
    {
     "name": "stdout",
     "output_type": "stream",
     "text": [
      "Using license file C:\\Users\\DELL\\gurobi.lic\n",
      "Academic license - for non-commercial use only - expires 2021-05-14\n"
     ]
    }
   ],
   "source": [
    "mdl = Model('Quebec vaccination problem')"
   ]
  },
  {
   "cell_type": "markdown",
   "metadata": {},
   "source": [
    "# Decision Variables"
   ]
  },
  {
   "cell_type": "code",
   "execution_count": 11,
   "metadata": {},
   "outputs": [],
   "source": [
    "x = mdl.addVars(A, vtype=GRB.BINARY)\n",
    "v = mdl.addVars(N, vtype=GRB.CONTINUOUS)"
   ]
  },
  {
   "cell_type": "markdown",
   "metadata": {},
   "source": [
    "# Objective Function"
   ]
  },
  {
   "cell_type": "code",
   "execution_count": 12,
   "metadata": {},
   "outputs": [],
   "source": [
    "mdl.modelSense = GRB.MINIMIZE\n",
    "mdl.setObjective(quicksum(x[i, j]*dist[i,j]*(7000 + v[i]*0.00034)*0.00011*2.2 for i, j in A if i!=0) + quicksum(x[0, j]*dist[0,j]*(7000 + capacity*0.00034)*0.00011*2.2 for j in N))"
   ]
  },
  {
   "cell_type": "markdown",
   "metadata": {},
   "source": [
    "# Constraints"
   ]
  },
  {
   "cell_type": "code",
   "execution_count": 13,
   "metadata": {},
   "outputs": [
    {
     "data": {
      "text/plain": [
       "{1: <gurobi.Constr *Awaiting Model Update*>,\n",
       " 2: <gurobi.Constr *Awaiting Model Update*>,\n",
       " 3: <gurobi.Constr *Awaiting Model Update*>,\n",
       " 4: <gurobi.Constr *Awaiting Model Update*>,\n",
       " 5: <gurobi.Constr *Awaiting Model Update*>,\n",
       " 6: <gurobi.Constr *Awaiting Model Update*>,\n",
       " 7: <gurobi.Constr *Awaiting Model Update*>,\n",
       " 8: <gurobi.Constr *Awaiting Model Update*>,\n",
       " 9: <gurobi.Constr *Awaiting Model Update*>,\n",
       " 10: <gurobi.Constr *Awaiting Model Update*>}"
      ]
     },
     "execution_count": 13,
     "metadata": {},
     "output_type": "execute_result"
    }
   ],
   "source": [
    "mdl.addConstrs(quicksum(x[i, j] for j in V if j != i) == 1 for i in N)\n",
    "mdl.addConstrs(quicksum(x[i, j] for i in V if i != j) == 1 for j in N)\n",
    "mdl.addConstrs((x[i, j] == 1) >> (v[i]-q[j] == v[j]) for i, j in A if i != 0 and j != 0)\n",
    "mdl.addConstrs(v[i] <= capacity-q[i] for i in N)\n",
    "mdl.addConstrs(v[i] >= 0 for i in N)"
   ]
  },
  {
   "cell_type": "code",
   "execution_count": 14,
   "metadata": {},
   "outputs": [
    {
     "name": "stdout",
     "output_type": "stream",
     "text": [
      "Minimize\n",
      "   <gurobi.LinExpr: 0.0>\n",
      "Subject To\n",
      "None\n"
     ]
    }
   ],
   "source": [
    "print(mdl.display())"
   ]
  },
  {
   "cell_type": "code",
   "execution_count": 15,
   "metadata": {},
   "outputs": [
    {
     "name": "stdout",
     "output_type": "stream",
     "text": [
      "Changed value of parameter MIPGap to 0.1\n",
      "   Prev: 0.0001  Min: 0.0  Max: inf  Default: 0.0001\n",
      "Gurobi Optimizer version 9.1.0 build v9.1.0rc0 (win64)\n",
      "Thread count: 2 physical cores, 4 logical processors, using up to 4 threads\n",
      "Optimize a model with 40 rows, 120 columns and 220 nonzeros\n",
      "Model fingerprint: 0x0c73546f\n",
      "Model has 100 quadratic objective terms\n",
      "Model has 90 general constraints\n",
      "Variable types: 10 continuous, 110 integer (110 binary)\n",
      "Coefficient statistics:\n",
      "  Matrix range     [1e+00, 1e+00]\n",
      "  Objective range  [6e+00, 9e+02]\n",
      "  QObjective range [6e-07, 9e-05]\n",
      "  Bounds range     [1e+00, 1e+00]\n",
      "  RHS range        [1e+00, 7e+04]\n",
      "Presolve added 66 rows and 72 columns\n",
      "Presolve time: 0.08s\n",
      "Presolved: 202 rows, 288 columns, 687 nonzeros\n",
      "Presolved model has 86 SOS constraint(s)\n",
      "Variable types: 192 continuous, 96 integer (96 binary)\n",
      "Found heuristic solution: objective 5221.4713221\n",
      "\n",
      "Root relaxation: objective 1.778301e+03, 28 iterations, 0.00 seconds\n",
      "\n",
      "    Nodes    |    Current Node    |     Objective Bounds      |     Work\n",
      " Expl Unexpl |  Obj  Depth IntInf | Incumbent    BestBd   Gap | It/Node Time\n",
      "\n",
      "     0     0 1778.30094    0   19 5221.47132 1778.30094  65.9%     -    0s\n",
      "H    0     0                    3327.3072756 1778.30094  46.6%     -    0s\n",
      "     0     0 2080.05352    0   24 3327.30728 2080.05352  37.5%     -    0s\n",
      "     0     0 2196.01692    0   36 3327.30728 2196.01692  34.0%     -    0s\n",
      "H    0     0                    3240.4092608 2196.01692  32.2%     -    0s\n",
      "     0     0 2246.72664    0   26 3240.40926 2246.72664  30.7%     -    0s\n",
      "     0     0 2252.00332    0   35 3240.40926 2252.00332  30.5%     -    0s\n",
      "     0     0 2252.50487    0   36 3240.40926 2252.50487  30.5%     -    0s\n",
      "     0     0 2362.45368    0   44 3240.40926 2362.45368  27.1%     -    0s\n",
      "     0     0 2399.52096    0   38 3240.40926 2399.52096  26.0%     -    0s\n",
      "     0     0 2399.91407    0   24 3240.40926 2399.91407  25.9%     -    0s\n",
      "     0     0 2403.64461    0   21 3240.40926 2403.64461  25.8%     -    0s\n",
      "     0     0 2407.50543    0   58 3240.40926 2407.50543  25.7%     -    0s\n",
      "     0     0 2424.13855    0   48 3240.40926 2424.13855  25.2%     -    0s\n",
      "     0     0 2425.83589    0   48 3240.40926 2425.83589  25.1%     -    0s\n",
      "     0     0 2460.66227    0   44 3240.40926 2460.66227  24.1%     -    0s\n",
      "     0     0 2460.66227    0   44 3240.40926 2460.66227  24.1%     -    0s\n",
      "     0     2 2460.66227    0   44 3240.40926 2460.66227  24.1%     -    0s\n",
      "H   17    20                    3202.2754953 2609.10486  18.5%   8.9    0s\n",
      "*   34    28              10    3192.8825848 2609.10486  18.3%   8.2    0s\n",
      "*   50    28              11    3179.0578110 2632.84348  17.2%   8.2    0s\n",
      "H   60    38                    3164.0666722 2633.71253  16.8%   8.3    0s\n",
      "H   88    62                    3162.5246169 2633.71253  16.7%   8.6    0s\n",
      "*  106    72              11    3154.6090891 2633.71253  16.5%   8.3    0s\n",
      "*  171    92               7    3153.2100556 2642.86503  16.2%   7.4    0s\n",
      "H  617   192                    3152.6882687 2725.60236  13.5%   7.9    0s\n",
      "*  731   192              23    3151.4815211 2741.84400  13.0%   8.0    0s\n",
      "\n",
      "Cutting planes:\n",
      "  Cover: 13\n",
      "  Implied bound: 141\n",
      "  Clique: 5\n",
      "  MIR: 10\n",
      "  StrongCG: 1\n",
      "  GUB cover: 7\n",
      "  Zero half: 1\n",
      "  Relax-and-lift: 16\n",
      "\n",
      "Explored 1873 nodes (14768 simplex iterations) in 1.08 seconds\n",
      "Thread count was 4 (of 4 available processors)\n",
      "\n",
      "Solution count 10: 3151.48 3152.69 3153.21 ... 3240.41\n",
      "\n",
      "Optimal solution found (tolerance 1.00e-01)\n",
      "Best objective 3.151481521090e+03, best bound 2.858302008559e+03, gap 9.3029%\n"
     ]
    }
   ],
   "source": [
    "mdl.Params.MIPGap = 0.1\n",
    "mdl.optimize()"
   ]
  },
  {
   "cell_type": "code",
   "execution_count": 30,
   "metadata": {},
   "outputs": [],
   "source": [
    "active_arcs = [a for a in A if x[a].x == 1]"
   ]
  },
  {
   "cell_type": "code",
   "execution_count": 53,
   "metadata": {},
   "outputs": [
    {
     "data": {
      "text/plain": [
       "(0, 3)"
      ]
     },
     "execution_count": 53,
     "metadata": {},
     "output_type": "execute_result"
    }
   ],
   "source": [
    "active_arcs[0]"
   ]
  },
  {
   "cell_type": "code",
   "execution_count": 34,
   "metadata": {},
   "outputs": [
    {
     "data": {
      "text/plain": [
       "[(0, 3),\n",
       " (0, 4),\n",
       " (0, 10),\n",
       " (1, 0),\n",
       " (2, 0),\n",
       " (3, 2),\n",
       " (4, 1),\n",
       " (5, 7),\n",
       " (6, 8),\n",
       " (7, 6),\n",
       " (8, 9),\n",
       " (9, 0),\n",
       " (10, 5)]"
      ]
     },
     "execution_count": 34,
     "metadata": {},
     "output_type": "execute_result"
    }
   ],
   "source": [
    "active_arcs"
   ]
  },
  {
   "cell_type": "code",
   "execution_count": 63,
   "metadata": {
    "scrolled": true
   },
   "outputs": [
    {
     "name": "stdout",
     "output_type": "stream",
     "text": [
      "When arriving in node 1 the truck had <gurobi.Var C110 (value 0.0)> to carry afterwards.\n",
      "When arriving in node 2 the truck had <gurobi.Var C111 (value 0.0)> to carry afterwards.\n",
      "When arriving in node 3 the truck had <gurobi.Var C112 (value 42299.3)> to carry afterwards.\n",
      "When arriving in node 4 the truck had <gurobi.Var C113 (value 53190.20000000001)> to carry afterwards.\n",
      "When arriving in node 5 the truck had <gurobi.Var C114 (value 53535.09999999945)> to carry afterwards.\n",
      "When arriving in node 6 the truck had <gurobi.Var C115 (value 24598.800000000003)> to carry afterwards.\n",
      "When arriving in node 7 the truck had <gurobi.Var C116 (value 39193.69999999961)> to carry afterwards.\n",
      "When arriving in node 8 the truck had <gurobi.Var C117 (value 11157.5)> to carry afterwards.\n",
      "When arriving in node 9 the truck had <gurobi.Var C118 (value 0.0)> to carry afterwards.\n",
      "When arriving in node 10 the truck had <gurobi.Var C119 (value 69667.39999999946)> to carry afterwards.\n"
     ]
    }
   ],
   "source": [
    "for i in N:\n",
    "    print(\"When arriving in node \" + str(i) + \" the truck had \" + str(v[i]) + \" to carry afterwards.\")"
   ]
  },
  {
   "cell_type": "code",
   "execution_count": 64,
   "metadata": {},
   "outputs": [
    {
     "data": {
      "text/plain": [
       "<matplotlib.collections.PathCollection at 0x241c6dc9548>"
      ]
     },
     "execution_count": 64,
     "metadata": {},
     "output_type": "execute_result"
    },
    {
     "data": {
      "image/png": "[encoded data removed]",
      "text/plain": [
       "<Figure size 432x288 with 1 Axes>"
      ]
     },
     "metadata": {
      "needs_background": "light"
     },
     "output_type": "display_data"
    }
   ],
   "source": [
    "for i, j in active_arcs:\n",
    "    plt.plot([lat[i], lat[j]], [long[i], long[j]], c='g', zorder=0)\n",
    "plt.plot(lat[0], long[0], c='r', marker='s')\n",
    "plt.scatter(lat[1:], long[1:], c='b')"
   ]
  },
  {
   "cell_type": "code",
   "execution_count": 65,
   "metadata": {},
   "outputs": [
    {
     "data": {
      "text/plain": [
       "{1: <gurobi.Var C110 (value 0.0)>,\n",
       " 2: <gurobi.Var C111 (value 0.0)>,\n",
       " 3: <gurobi.Var C112 (value 42299.3)>,\n",
       " 4: <gurobi.Var C113 (value 53190.20000000001)>,\n",
       " 5: <gurobi.Var C114 (value 53535.09999999945)>,\n",
       " 6: <gurobi.Var C115 (value 24598.800000000003)>,\n",
       " 7: <gurobi.Var C116 (value 39193.69999999961)>,\n",
       " 8: <gurobi.Var C117 (value 11157.5)>,\n",
       " 9: <gurobi.Var C118 (value 0.0)>,\n",
       " 10: <gurobi.Var C119 (value 69667.39999999946)>}"
      ]
     },
     "execution_count": 65,
     "metadata": {},
     "output_type": "execute_result"
    }
   ],
   "source": [
    "v"
   ]
  }
 ],
 "metadata": {
  "kernelspec": {
   "display_name": "Python 3",
   "language": "python",
   "name": "python3"
  },
  "language_info": {
   "codemirror_mode": {
    "name": "ipython",
    "version": 3
   },
   "file_extension": ".py",
   "mimetype": "text/x-python",
   "name": "python",
   "nbconvert_exporter": "python",
   "pygments_lexer": "ipython3",
   "version": "3.7.7"
  }
 },
 "nbformat": 4,
 "nbformat_minor": 2
}
