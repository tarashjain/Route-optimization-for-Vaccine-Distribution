{
 "cells": [
  {
   "cell_type": "markdown",
   "metadata": {},
   "source": [
    "# Vaccine Distribution - Using Capacitated Vehicle Routing Problem"
   ]
  },
  {
   "cell_type": "code",
   "execution_count": 1,
   "metadata": {},
   "outputs": [],
   "source": [
    "import numpy as np\n",
    "import pandas as pd\n",
    "import matplotlib.pyplot as plt"
   ]
  },
  {
   "cell_type": "code",
   "execution_count": 3,
   "metadata": {},
   "outputs": [
    {
     "data": {
      "text/plain": [
       "Index(['city', 'population', 'lat', 'long'], dtype='object')"
      ]
     },
     "execution_count": 3,
     "metadata": {},
     "output_type": "execute_result"
    }
   ],
   "source": [
    "data = pd.read_csv('List Of Cities.csv')\n",
    "data.columns"
   ]
  },
  {
   "cell_type": "code",
   "execution_count": 4,
   "metadata": {},
   "outputs": [],
   "source": [
    "n = 10  # Cities to be served\n",
    "xc = data['lat'].to_numpy()\n",
    "yc = data['long'].to_numpy()"
   ]
  },
  {
   "cell_type": "code",
   "execution_count": 5,
   "metadata": {
    "scrolled": false
   },
   "outputs": [
    {
     "data": {
      "text/plain": [
       "Text(0, 0.5, 'Longitute')"
      ]
     },
     "execution_count": 5,
     "metadata": {},
     "output_type": "execute_result"
    },
    {
     "data": {
      "image/png": "[encoded data removed]",
      "text/plain": [
       "<Figure size 576x576 with 1 Axes>"
      ]
     },
     "metadata": {
      "needs_background": "light"
     },
     "output_type": "display_data"
    }
   ],
   "source": [
    "plt.figure(figsize = (8,8))\n",
    "plt.plot(xc[0], yc[0], c='r', marker='*')\n",
    "plt.scatter(xc[1:], yc[1:], c='b')\n",
    "plt.xlabel('Latitude')\n",
    "plt.ylabel('Longitute')"
   ]
  },
  {
   "cell_type": "code",
   "execution_count": 6,
   "metadata": {
    "scrolled": true
   },
   "outputs": [],
   "source": [
    "data['vac_req'] = data['population']*.05\n",
    "vac_req = round(data['vac_req'],0).to_list()\n",
    "data['vac_req'] = vac_req"
   ]
  },
  {
   "cell_type": "code",
   "execution_count": 7,
   "metadata": {},
   "outputs": [
    {
     "data": {
      "text/html": [
       "<div>\n",
       "<style scoped>\n",
       "    .dataframe tbody tr th:only-of-type {\n",
       "        vertical-align: middle;\n",
       "    }\n",
       "\n",
       "    .dataframe tbody tr th {\n",
       "        vertical-align: top;\n",
       "    }\n",
       "\n",
       "    .dataframe thead th {\n",
       "        text-align: right;\n",
       "    }\n",
       "</style>\n",
       "<table border=\"1\" class=\"dataframe\">\n",
       "  <thead>\n",
       "    <tr style=\"text-align: right;\">\n",
       "      <th></th>\n",
       "      <th>city</th>\n",
       "      <th>population</th>\n",
       "      <th>lat</th>\n",
       "      <th>long</th>\n",
       "      <th>vac_req</th>\n",
       "    </tr>\n",
       "  </thead>\n",
       "  <tbody>\n",
       "    <tr>\n",
       "      <th>0</th>\n",
       "      <td>Montreal</td>\n",
       "      <td>1704694.0</td>\n",
       "      <td>40.741895</td>\n",
       "      <td>-73.989308</td>\n",
       "      <td>85235.0</td>\n",
       "    </tr>\n",
       "    <tr>\n",
       "      <th>1</th>\n",
       "      <td>Quebec</td>\n",
       "      <td>531902.0</td>\n",
       "      <td>46.825960</td>\n",
       "      <td>-71.235223</td>\n",
       "      <td>26595.0</td>\n",
       "    </tr>\n",
       "    <tr>\n",
       "      <th>2</th>\n",
       "      <td>Laval</td>\n",
       "      <td>422993.0</td>\n",
       "      <td>48.071038</td>\n",
       "      <td>-0.772350</td>\n",
       "      <td>21150.0</td>\n",
       "    </tr>\n",
       "    <tr>\n",
       "      <th>3</th>\n",
       "      <td>Gatineau</td>\n",
       "      <td>276245.0</td>\n",
       "      <td>45.484121</td>\n",
       "      <td>-75.681373</td>\n",
       "      <td>13812.0</td>\n",
       "    </tr>\n",
       "    <tr>\n",
       "      <th>4</th>\n",
       "      <td>Longueuil</td>\n",
       "      <td>239700.0</td>\n",
       "      <td>45.517238</td>\n",
       "      <td>-73.446747</td>\n",
       "      <td>11985.0</td>\n",
       "    </tr>\n",
       "    <tr>\n",
       "      <th>5</th>\n",
       "      <td>Sherbrooke</td>\n",
       "      <td>161323.0</td>\n",
       "      <td>45.403271</td>\n",
       "      <td>-71.889038</td>\n",
       "      <td>8066.0</td>\n",
       "    </tr>\n",
       "    <tr>\n",
       "      <th>6</th>\n",
       "      <td>Saguenay</td>\n",
       "      <td>145949.0</td>\n",
       "      <td>48.405959</td>\n",
       "      <td>-71.069183</td>\n",
       "      <td>7297.0</td>\n",
       "    </tr>\n",
       "    <tr>\n",
       "      <th>7</th>\n",
       "      <td>Levis</td>\n",
       "      <td>143414.0</td>\n",
       "      <td>48.405959</td>\n",
       "      <td>-71.069183</td>\n",
       "      <td>7171.0</td>\n",
       "    </tr>\n",
       "    <tr>\n",
       "      <th>8</th>\n",
       "      <td>Trois-Rivieres</td>\n",
       "      <td>134413.0</td>\n",
       "      <td>46.350800</td>\n",
       "      <td>-72.557126</td>\n",
       "      <td>6721.0</td>\n",
       "    </tr>\n",
       "    <tr>\n",
       "      <th>9</th>\n",
       "      <td>Terrebonne</td>\n",
       "      <td>111575.0</td>\n",
       "      <td>45.708101</td>\n",
       "      <td>-73.651516</td>\n",
       "      <td>5579.0</td>\n",
       "    </tr>\n",
       "    <tr>\n",
       "      <th>10</th>\n",
       "      <td>Saint-Jean-sur-Richelieu</td>\n",
       "      <td>95114.0</td>\n",
       "      <td>45.305688</td>\n",
       "      <td>-73.253340</td>\n",
       "      <td>4756.0</td>\n",
       "    </tr>\n",
       "  </tbody>\n",
       "</table>\n",
       "</div>"
      ],
      "text/plain": [
       "                        city  population        lat       long  vac_req\n",
       "0                   Montreal   1704694.0  40.741895 -73.989308  85235.0\n",
       "1                     Quebec    531902.0  46.825960 -71.235223  26595.0\n",
       "2                      Laval    422993.0  48.071038  -0.772350  21150.0\n",
       "3                   Gatineau    276245.0  45.484121 -75.681373  13812.0\n",
       "4                  Longueuil    239700.0  45.517238 -73.446747  11985.0\n",
       "5                 Sherbrooke    161323.0  45.403271 -71.889038   8066.0\n",
       "6                   Saguenay    145949.0  48.405959 -71.069183   7297.0\n",
       "7                      Levis    143414.0  48.405959 -71.069183   7171.0\n",
       "8             Trois-Rivieres    134413.0  46.350800 -72.557126   6721.0\n",
       "9                 Terrebonne    111575.0  45.708101 -73.651516   5579.0\n",
       "10  Saint-Jean-sur-Richelieu     95114.0  45.305688 -73.253340   4756.0"
      ]
     },
     "execution_count": 7,
     "metadata": {},
     "output_type": "execute_result"
    }
   ],
   "source": [
    "data"
   ]
  },
  {
   "cell_type": "code",
   "execution_count": 8,
   "metadata": {},
   "outputs": [],
   "source": [
    "N = [i for i in range(1, n+1)]\n",
    "V = [0] + N\n",
    "A = [(i, j) for i in V for j in V if i != j]\n",
    "c = {(i, j): np.hypot(xc[i]-xc[j], yc[i]-yc[j]) for i, j in A}\n",
    "Q = 50000\n",
    "q = {i: vac_req[i] for i in N}"
   ]
  },
  {
   "cell_type": "code",
   "execution_count": 9,
   "metadata": {},
   "outputs": [],
   "source": [
    "from gurobipy import Model, GRB, quicksum"
   ]
  },
  {
   "cell_type": "code",
   "execution_count": 10,
   "metadata": {},
   "outputs": [
    {
     "name": "stdout",
     "output_type": "stream",
     "text": [
      "Using license file C:\\Users\\DELL\\gurobi.lic\n",
      "Academic license - for non-commercial use only - expires 2021-08-01\n"
     ]
    }
   ],
   "source": [
    "mdl = Model('CVRP')"
   ]
  },
  {
   "cell_type": "code",
   "execution_count": 11,
   "metadata": {},
   "outputs": [],
   "source": [
    "x = mdl.addVars(A, vtype=GRB.BINARY)\n",
    "u = mdl.addVars(N, vtype=GRB.CONTINUOUS)"
   ]
  },
  {
   "cell_type": "code",
   "execution_count": 13,
   "metadata": {},
   "outputs": [],
   "source": [
    "mdl.modelSense = GRB.MINIMIZE\n",
    "mdl.setObjective(quicksum(x[i, j]*c[i, j] for i, j in A))"
   ]
  },
  {
   "cell_type": "code",
   "execution_count": 14,
   "metadata": {
    "scrolled": true
   },
   "outputs": [
    {
     "data": {
      "text/plain": [
       "{1: <gurobi.Constr *Awaiting Model Update*>,\n",
       " 2: <gurobi.Constr *Awaiting Model Update*>,\n",
       " 3: <gurobi.Constr *Awaiting Model Update*>,\n",
       " 4: <gurobi.Constr *Awaiting Model Update*>,\n",
       " 5: <gurobi.Constr *Awaiting Model Update*>,\n",
       " 6: <gurobi.Constr *Awaiting Model Update*>,\n",
       " 7: <gurobi.Constr *Awaiting Model Update*>,\n",
       " 8: <gurobi.Constr *Awaiting Model Update*>,\n",
       " 9: <gurobi.Constr *Awaiting Model Update*>,\n",
       " 10: <gurobi.Constr *Awaiting Model Update*>}"
      ]
     },
     "execution_count": 14,
     "metadata": {},
     "output_type": "execute_result"
    }
   ],
   "source": [
    "mdl.addConstrs(quicksum(x[i, j] for j in V if j != i) == 1 for i in N)\n",
    "mdl.addConstrs(quicksum(x[i, j] for i in V if i != j) == 1 for j in N)\n",
    "mdl.addConstrs((x[i, j] == 1) >> (u[i]+q[j] == u[j])\n",
    "               for i, j in A if i != 0 and j != 0)\n",
    "mdl.addConstrs(u[i] >= q[i] for i in N)\n",
    "mdl.addConstrs(u[i] <= Q for i in N)"
   ]
  },
  {
   "cell_type": "code",
   "execution_count": 15,
   "metadata": {
    "scrolled": false
   },
   "outputs": [
    {
     "name": "stdout",
     "output_type": "stream",
     "text": [
      "Changed value of parameter MIPGap to 0.1\n",
      "   Prev: 0.0001  Min: 0.0  Max: inf  Default: 0.0001\n",
      "Changed value of parameter TimeLimit to 30.0\n",
      "   Prev: inf  Min: 0.0  Max: inf  Default: inf\n",
      "Gurobi Optimizer version 9.1.0 build v9.1.0rc0 (win64)\n",
      "Thread count: 2 physical cores, 4 logical processors, using up to 4 threads\n",
      "Optimize a model with 40 rows, 120 columns and 220 nonzeros\n",
      "Model fingerprint: 0x84672dc1\n",
      "Model has 90 general constraints\n",
      "Variable types: 10 continuous, 110 integer (110 binary)\n",
      "Coefficient statistics:\n",
      "  Matrix range     [1e+00, 1e+00]\n",
      "  Objective range  [3e-01, 7e+01]\n",
      "  Bounds range     [1e+00, 1e+00]\n",
      "  RHS range        [1e+00, 5e+04]\n",
      "Presolve added 70 rows and 70 columns\n",
      "Presolve time: 0.02s\n",
      "Presolved: 110 rows, 190 columns, 409 nonzeros\n",
      "Presolved model has 90 SOS constraint(s)\n",
      "Variable types: 100 continuous, 90 integer (90 binary)\n",
      "Found heuristic solution: objective 254.0148346\n",
      "\n",
      "Root relaxation: objective 1.493827e+02, 19 iterations, 0.00 seconds\n",
      "\n",
      "    Nodes    |    Current Node    |     Objective Bounds      |     Work\n",
      " Expl Unexpl |  Obj  Depth IntInf | Incumbent    BestBd   Gap | It/Node Time\n",
      "\n",
      "     0     0  149.38270    0   10  254.01483  149.38270  41.2%     -    0s\n",
      "H    0     0                     188.2075542  149.38270  20.6%     -    0s\n",
      "H    0     0                     180.2701405  149.38270  17.1%     -    0s\n",
      "     0     0  149.38270    0   10  180.27014  149.38270  17.1%     -    0s\n",
      "     0     2  149.38270    0   10  180.27014  149.38270  17.1%     -    0s\n",
      "H    7    10                     178.4444674  149.38270  16.3%   1.4    0s\n",
      "H   32    36                     178.2069128  150.27475  15.7%   2.3    0s\n",
      "H 2608  1180                     177.8163185  152.22533  14.4%   1.7    0s\n",
      "\n",
      "Explored 13918 nodes (24784 simplex iterations) in 1.11 seconds\n",
      "Thread count was 4 (of 4 available processors)\n",
      "\n",
      "Solution count 6: 177.816 178.207 178.444 ... 254.015\n",
      "\n",
      "Optimal solution found (tolerance 1.00e-01)\n",
      "Best objective 1.778163184653e+02, best bound 1.602643361141e+02, gap 9.8709%\n"
     ]
    }
   ],
   "source": [
    "mdl.Params.MIPGap = 0.1\n",
    "mdl.Params.TimeLimit = 30  # seconds\n",
    "mdl.optimize()"
   ]
  },
  {
   "cell_type": "code",
   "execution_count": 16,
   "metadata": {},
   "outputs": [],
   "source": [
    "active_arcs = [a for a in A if x[a].x > 0.99]"
   ]
  },
  {
   "cell_type": "code",
   "execution_count": 17,
   "metadata": {},
   "outputs": [
    {
     "data": {
      "text/plain": [
       "[(0, 3),\n",
       " (0, 5),\n",
       " (0, 10),\n",
       " (1, 0),\n",
       " (2, 0),\n",
       " (3, 9),\n",
       " (4, 0),\n",
       " (5, 1),\n",
       " (6, 2),\n",
       " (7, 6),\n",
       " (8, 7),\n",
       " (9, 4),\n",
       " (10, 8)]"
      ]
     },
     "execution_count": 17,
     "metadata": {},
     "output_type": "execute_result"
    }
   ],
   "source": [
    "active_arcs"
   ]
  },
  {
   "cell_type": "code",
   "execution_count": 18,
   "metadata": {},
   "outputs": [
    {
     "data": {
      "text/plain": [
       "Text(0, 0.5, 'Longitute')"
      ]
     },
     "execution_count": 18,
     "metadata": {},
     "output_type": "execute_result"
    },
    {
     "data": {
      "image/png": "[encoded data removed]",
      "text/plain": [
       "<Figure size 576x576 with 1 Axes>"
      ]
     },
     "metadata": {
      "needs_background": "light"
     },
     "output_type": "display_data"
    }
   ],
   "source": [
    "plt.figure(figsize = (8,8))\n",
    "for i, j in active_arcs:\n",
    "    plt.plot([xc[i], xc[j]], [yc[i], yc[j]], c='g', zorder=0)\n",
    "plt.plot(xc[0], yc[0], c='r', marker='*', markersize = 12)\n",
    "plt.scatter(xc[1:], yc[1:], c='b')\n",
    "plt.xlabel('Latitude')\n",
    "plt.ylabel('Longitute')"
   ]
  },
  {
   "cell_type": "code",
   "execution_count": 19,
   "metadata": {},
   "outputs": [],
   "source": [
    "annotations = data['city']\n",
    "annotations.to_list()\n",
    "city = {i:data['city'][i] for i in range(11)}\n",
    "route = [[(0, 3),(3, 9),(9, 4),(4, 0)],[(0, 5),(5, 1),(1, 0)],[(0, 10),(10, 8),(8, 7),(7, 6),(6, 2),(2, 0)]]"
   ]
  },
  {
   "cell_type": "code",
   "execution_count": 21,
   "metadata": {},
   "outputs": [
    {
     "name": "stdout",
     "output_type": "stream",
     "text": [
      "Route 1:\n",
      "Montreal-> Gatineau-> Terrebonne-> Longueuil\n",
      "Route 2:\n",
      "Montreal-> Sherbrooke-> Quebec\n",
      "Route 3:\n",
      "Montreal-> Saint-Jean-sur-Richelieu-> Trois-Rivieres-> Levis-> Saguenay-> Laval\n"
     ]
    }
   ],
   "source": [
    "final = []\n",
    "for i in route:\n",
    "    l = []\n",
    "    for j in i:\n",
    "        l.append(city[j[0]])\n",
    "    final.append(l)\n",
    "separator = '-> '\n",
    "i = 1\n",
    "for numList in final:\n",
    "    print('Route {}:'.format(i))\n",
    "    print(separator.join(numList))\n",
    "    i = i+1"
   ]
  },
  {
   "cell_type": "code",
   "execution_count": null,
   "metadata": {},
   "outputs": [],
   "source": []
  }
 ],
 "metadata": {
  "kernelspec": {
   "display_name": "Python 3",
   "language": "python",
   "name": "python3"
  },
  "language_info": {
   "codemirror_mode": {
    "name": "ipython",
    "version": 3
   },
   "file_extension": ".py",
   "mimetype": "text/x-python",
   "name": "python",
   "nbconvert_exporter": "python",
   "pygments_lexer": "ipython3",
   "version": "3.7.7"
  }
 },
 "nbformat": 4,
 "nbformat_minor": 2
}
